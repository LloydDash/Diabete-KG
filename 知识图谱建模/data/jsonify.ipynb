{
 "cells": [
  {
   "cell_type": "code",
   "execution_count": 2,
   "id": "4ac7eada",
   "metadata": {},
   "outputs": [
    {
     "name": "stdout",
     "output_type": "stream",
     "text": [
      "        id                 入院时间                 出院时间  性别（男1女2）  入院诊断 数值   \\\n",
      "0     1129  2015-11-05 00:00:00  2015-11-11 00:00:00          2    2型糖尿病   \n",
      "1     1130  2015-11-18 00:00:00  2015-11-25 00:00:00          1    2型糖尿病   \n",
      "2     1131  2015-11-08 00:00:00  2015-11-19 00:00:00          2    2型糖尿病   \n",
      "3     1132  2015-11-23 00:00:00  2015-12-04 00:00:00          2    2型糖尿病   \n",
      "4     1133  2015-11-07 00:00:00  2015-11-18 00:00:00          1    2型糖尿病   \n",
      "...    ...                  ...                  ...        ...      ...   \n",
      "3599  5016  2018-09-20 09:12:00  2018-09-28 07:57:00          2   2型糖尿病    \n",
      "3600  5017  2018-09-16 20:14:00  2018-09-26 08:07:00          1   2型糖尿病    \n",
      "3601  5018  2018-09-20 10:03:00  2018-09-26 08:07:00          1   2型糖尿病    \n",
      "3602  5019  2018-09-17 10:22:00  2018-09-28 07:58:00          1   2型糖尿病    \n",
      "3603  5020  2018-09-20 11:09:00  2018-09-27 07:59:00          1   2型糖尿病    \n",
      "\n",
      "                                               出院诊断（先联）  \\\n",
      "0                             2型糖尿病,颈动脉粥样硬化症,骨量减少,甲状腺结节   \n",
      "1     2型糖尿病,高血压病3级（极高危）,高脂血症,高尿酸血症,肥胖症,颈动脉粥样硬化症,非酒精性...   \n",
      "2          2型糖尿病,高血压病2级（极高危）,白内障,糖尿病视网膜病变Ⅰ期,肥胖症,非酒精性脂肪肝   \n",
      "3     2型糖尿病,右外展神经麻痹,高血压病,陈旧性脑梗死,陈旧性心肌梗死,非酒精性脂肪肝,肝囊肿,...   \n",
      "4     2型糖尿病,神经源性膀胱,糖尿病周围神经病变,尿路感染,窦性心动过速,糖尿病视网膜病变（Ⅱ期...   \n",
      "...                                                 ...   \n",
      "3599  2型糖尿病,非酒精性脂肪肝,右肺结节,亚临床甲状腺功能减退症,高血压病1级（极高危）,颈动脉...   \n",
      "3600                      2型糖尿病,脂肪肝,高血压病1级（极高危）,左下肢皮肤感染   \n",
      "3601  2型糖尿病,短暂性脑缺血发作（椎基底动脉系统）,双侧颈动脉粥样硬化症,高血压病2级（极高危）...   \n",
      "3602                              2型糖尿病,亚急性甲状腺炎,非酒精性脂肪肝   \n",
      "3603           2型糖尿病,双侧甲状腺结节,高脂血症,高血压病3级（极高危）,胆囊内壁胆固醇结晶   \n",
      "\n",
      "                                                   出院带药  入院体重指数 数值   入院收缩压  \\\n",
      "0     格华止0.5g/片,1日3次,1次1片餐前口服阿法迪三0.25ug/片,1日1次,1次1片口...       22.22  135.0   \n",
      "1     格华止0.5gtid(每日3次,每次1片,餐前)、以上降糖药物长期服用,根据血糖监测情况定期...       28.41  149.0   \n",
      "2     诺和锐30早26u晚18u,餐前5分钟皮下注射格华止0.25gbid(一天2次,一次半片)、...       34.89  133.0   \n",
      "3     优泌乐50皮下注射早餐前5分钟19U,晚餐前5分钟10U,根据血糖在医师指导下调整用量捷诺维...       27.56  149.0   \n",
      "4     诺和锐:早7u中11u晚11u(餐前5分钟皮下注射,长期使用,定期监测血糖,根据血糖调整用量...       16.97  121.0   \n",
      "...                                                 ...         ...    ...   \n",
      "3599  二甲双胍(格华止)、 0.5g tid(每天3次,每次1片,注意监测血糖,内分泌科门诊随诊调...       22.50    NaN   \n",
      "3600   格华止1000mg BID(500mg/片,一天2次,一次2片,建议长期服用,根据监测血糖...       27.54    NaN   \n",
      "3601  格华止 0.5g/片 0.5g tid(三餐前5分钟口服,每次1片,根据血糖情况调节用量,长...       24.13    NaN   \n",
      "3602  格华止 0.5g tid(三餐前5分钟口服,每次1片,监测血糖,根据血糖情况调节用量,长期使...       23.88    NaN   \n",
      "3603  格华止0.5g tid（三餐前5min口服，每次一片，根据血糖情况调节用量，长期使用）,捷诺...       23.00    NaN   \n",
      "\n",
      "      院舒张压  ...  感染  糖尿病酮症  糖尿病视网膜病变 糖尿病肾病 糖尿病周围神经病变 下肢动脉病变 颈动脉病变 脑血管病 冠心病  \\\n",
      "0     75.0  ...   0      0         0     0         0      0     1    0   0   \n",
      "1     90.0  ...   0      0         0     0         0      0     1    0   0   \n",
      "2     71.0  ...   0      0         1     0         0      0     0    0   0   \n",
      "3     89.0  ...   0      0         0     0         0      0     1    1   1   \n",
      "4     79.0  ...   1      0         1     0         1      0     1    0   0   \n",
      "...    ...  ...  ..    ...       ...   ...       ...    ...   ...  ...  ..   \n",
      "3599   NaN  ...   0      0         0     0         0      0     1    0   0   \n",
      "3600   NaN  ...   1      0         0     0         0      0     0    0   0   \n",
      "3601   NaN  ...   0      0         0     0         0      0     1    1   1   \n",
      "3602   NaN  ...   0      0         0     0         0      0     0    0   0   \n",
      "3603   NaN  ...   0      0         0     0         0      0     0    0   0   \n",
      "\n",
      "     高血压病  \n",
      "0       0  \n",
      "1       1  \n",
      "2       1  \n",
      "3       1  \n",
      "4       0  \n",
      "...   ...  \n",
      "3599    1  \n",
      "3600    1  \n",
      "3601    1  \n",
      "3602    0  \n",
      "3603    1  \n",
      "\n",
      "[3604 rows x 90 columns]\n"
     ]
    }
   ],
   "source": [
    "import pandas as pd\n",
    "import numpy as np\n",
    "\n",
    "pat_data = pd.read_excel(\"patient.xlsx\",skiprows=[0])\n",
    "# pat_data = pd.read_excel(\"drug.xlsx\")\n",
    "print(pat_data)"
   ]
  },
  {
   "cell_type": "code",
   "execution_count": 3,
   "id": "a463a12d",
   "metadata": {},
   "outputs": [],
   "source": [
    "# transform dataframe to list of dict \n",
    "# split data to 10 segments\n",
    "def loadJson(data,t):\n",
    "    json_data = []\n",
    "    for i in range(len(data)*t//10,len(data)*(t+1)//10):\n",
    "        dat = {}\n",
    "        for k in pat_data:\n",
    "            dat[k]=(pat_data[k][i])\n",
    "        json_data.append(dat)\n",
    "    return json_data\n"
   ]
  },
  {
   "cell_type": "markdown",
   "id": "984c6c3c",
   "metadata": {},
   "source": [
    "Generate JSON data"
   ]
  },
  {
   "cell_type": "code",
   "execution_count": 6,
   "id": "96ce9a11",
   "metadata": {},
   "outputs": [
    {
     "name": "stdout",
     "output_type": "stream",
     "text": [
      "360\n"
     ]
    }
   ],
   "source": [
    "import json\n",
    "# numpy int64/float64 not json serializable\n",
    "class NpEncoder(json.JSONEncoder):\n",
    "    def default(self, obj):\n",
    "        if isinstance(obj, np.integer):\n",
    "            return int(obj)\n",
    "        elif isinstance(obj, np.floating):\n",
    "            return float(obj)\n",
    "        else:\n",
    "            return obj\n",
    "        \n",
    "for t in range(10):\n",
    "    f = open(\"patient_\"+str(t)+\".json\",\"w\", encoding='utf8')\n",
    "    json_data = loadJson(pat_data, t)\n",
    "    # encode chinese characters\n",
    "    f.write(json.dumps(json_data,cls=NpEncoder,ensure_ascii=False))\n",
    "    f.close()\n",
    "    print(len(json_data))\n"
   ]
  }
 ],
 "metadata": {
  "kernelspec": {
   "display_name": "Python 3 (ipykernel)",
   "language": "python",
   "name": "python3"
  },
  "language_info": {
   "codemirror_mode": {
    "name": "ipython",
    "version": 3
   },
   "file_extension": ".py",
   "mimetype": "text/x-python",
   "name": "python",
   "nbconvert_exporter": "python",
   "pygments_lexer": "ipython3",
   "version": "3.10.9"
  }
 },
 "nbformat": 4,
 "nbformat_minor": 5
}
